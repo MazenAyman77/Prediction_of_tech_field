{
 "cells": [
  {
   "cell_type": "code",
   "execution_count": 1,
   "id": "89725d13",
   "metadata": {},
   "outputs": [],
   "source": [
    "import os \n",
    "import sklearn\n",
    "import pickle\n",
    "import yaml\n",
    "\n",
    "import pandas as pd\n",
    "\n",
    "import mlflow\n",
    "from mlflow.tracking import MlflowClient"
   ]
  },
  {
   "cell_type": "code",
   "execution_count": 15,
   "id": "21bea6f1",
   "metadata": {},
   "outputs": [],
   "source": [
    "MLFLOW_TRACKING_URI = '../models/mlruns'\n",
    "MLFLOW_RUN_ID = \"1441604ce1944c54847a034875470678\"\n",
    "\n",
    "LOG_DATA_PKL    =  \"data.pkl\"\n",
    "LOG_MODEL_PKL   =  \"model.pkl\"\n",
    "LOG_METRICS_PKL =  \"metrics.pkl\"\n",
    "\n",
    "CLUSTERS_YAML_PATH = \"../data/processed/features_skills_clusters_description.yaml\""
   ]
  },
  {
   "cell_type": "code",
   "execution_count": 16,
   "id": "5d2e69d6",
   "metadata": {},
   "outputs": [],
   "source": [
    "mlflow.set_tracking_uri(MLFLOW_TRACKING_URI)\n",
    "client = MlflowClient()\n",
    "\n",
    "run = mlflow.get_run(MLFLOW_RUN_ID)\n",
    "artificats_path = run.info.artifact_uri"
   ]
  },
  {
   "cell_type": "code",
   "execution_count": 17,
   "id": "80261af3",
   "metadata": {},
   "outputs": [
    {
     "ename": "OSError",
     "evalue": "[Errno 22] Invalid argument: 'file:///C:/Users/master/iti skills project/notebooks/../models/mlruns/913210138784205209/1441604ce1944c54847a034875470678/artifacts\\\\model.pkl'",
     "output_type": "error",
     "traceback": [
      "\u001b[1;31m---------------------------------------------------------------------------\u001b[0m",
      "\u001b[1;31mOSError\u001b[0m                                   Traceback (most recent call last)",
      "Input \u001b[1;32mIn [17]\u001b[0m, in \u001b[0;36m<cell line: 2>\u001b[1;34m()\u001b[0m\n\u001b[0;32m      1\u001b[0m model_path \u001b[38;5;241m=\u001b[39m os\u001b[38;5;241m.\u001b[39mpath\u001b[38;5;241m.\u001b[39mjoin(artificats_path, LOG_MODEL_PKL)\n\u001b[1;32m----> 2\u001b[0m \u001b[38;5;28;01mwith\u001b[39;00m \u001b[38;5;28;43mopen\u001b[39;49m\u001b[43m(\u001b[49m\u001b[43mmodel_path\u001b[49m\u001b[43m,\u001b[49m\u001b[43m \u001b[49m\u001b[38;5;124;43m\"\u001b[39;49m\u001b[38;5;124;43mrb\u001b[39;49m\u001b[38;5;124;43m\"\u001b[39;49m\u001b[43m)\u001b[49m \u001b[38;5;28;01mas\u001b[39;00m f:\n\u001b[0;32m      3\u001b[0m     model \u001b[38;5;241m=\u001b[39m pickle\u001b[38;5;241m.\u001b[39mload(f)\n\u001b[0;32m      5\u001b[0m model\n",
      "\u001b[1;31mOSError\u001b[0m: [Errno 22] Invalid argument: 'file:///C:/Users/master/iti skills project/notebooks/../models/mlruns/913210138784205209/1441604ce1944c54847a034875470678/artifacts\\\\model.pkl'"
     ]
    }
   ],
   "source": [
    "model_path = os.path.join(artificats_path, LOG_MODEL_PKL)\n",
    "with open(model_path, \"rb\") as f:\n",
    "    model = pickle.load(f)\n",
    "\n",
    "model"
   ]
  },
  {
   "cell_type": "code",
   "execution_count": null,
   "id": "034547a7",
   "metadata": {},
   "outputs": [],
   "source": []
  }
 ],
 "metadata": {
  "kernelspec": {
   "display_name": "Python 3 (ipykernel)",
   "language": "python",
   "name": "python3"
  },
  "language_info": {
   "codemirror_mode": {
    "name": "ipython",
    "version": 3
   },
   "file_extension": ".py",
   "mimetype": "text/x-python",
   "name": "python",
   "nbconvert_exporter": "python",
   "pygments_lexer": "ipython3",
   "version": "3.9.12"
  }
 },
 "nbformat": 4,
 "nbformat_minor": 5
}
