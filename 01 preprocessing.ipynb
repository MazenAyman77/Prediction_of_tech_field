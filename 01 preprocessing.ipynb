{
 "cells": [
  {
   "cell_type": "code",
   "execution_count": 1,
   "id": "c5a58cfa",
   "metadata": {},
   "outputs": [],
   "source": [
    "import pandas as pd\n",
    "import numpy as np"
   ]
  },
  {
   "cell_type": "code",
   "execution_count": 2,
   "id": "caa71263",
   "metadata": {},
   "outputs": [],
   "source": [
    "df=pd.read_csv(\"../data/raw/survey_results_responses.csv\")"
   ]
  },
  {
   "cell_type": "code",
   "execution_count": 21,
   "id": "43ded2b9",
   "metadata": {},
   "outputs": [],
   "source": [
    "def split_answer(data_series,delimiter=\";\"):\n",
    "    \n",
    "    def is_splittable(pd_series,delimiter):\n",
    "        return pd_series.str.contains(delimiter)\n",
    "    \n",
    "    def splitting(pd_series,delimiter):\n",
    "        return pd_series.str.split(delimiter)\n",
    "    \n",
    "    check_splittable= is_splittable(data_series,delimiter)\n",
    "    \n",
    "    if not check_splittable.any() :\n",
    "        \n",
    "        return data_series\n",
    "    \n",
    "    modefied_ans= splitting(data_series,delimiter)\n",
    "    \n",
    "    mask_null=modefied_ans.isnull()\n",
    "    \n",
    "    modefied_ans.loc[mask_null]=modefied_ans.loc[mask_null].apply(lambda x : [])\n",
    "    \n",
    "    return modefied_ans"
   ]
  },
  {
   "cell_type": "code",
   "execution_count": 9,
   "id": "d7aa4abe",
   "metadata": {},
   "outputs": [],
   "source": [
    "modefied_df=df.copy()"
   ]
  },
  {
   "cell_type": "code",
   "execution_count": 17,
   "id": "43c0b45d",
   "metadata": {},
   "outputs": [],
   "source": [
    "replace_dict={\n",
    "    \"YearsCodePro\": {'Less than 1 year': 0 , 'More than 50 years' : 51},\n",
    "    \"YearsCode\": {'Less than 1 year': 0 , 'More than 50 years' : 51}\n",
    "}"
   ]
  },
  {
   "cell_type": "code",
   "execution_count": 18,
   "id": "8224a118",
   "metadata": {},
   "outputs": [],
   "source": [
    "for col , replacement in replace_dict.items() :\n",
    "    \n",
    "    modefied_df[col]=modefied_df[col].replace(replacement).astype(np.float32)"
   ]
  },
  {
   "cell_type": "code",
   "execution_count": 22,
   "id": "97b31001",
   "metadata": {},
   "outputs": [],
   "source": [
    "object_cols=modefied_df.select_dtypes(include='object').columns.tolist()\n",
    "\n",
    "for col in object_cols :\n",
    "    df[col]=split_answer(df[col])"
   ]
  },
  {
   "cell_type": "code",
   "execution_count": 49,
   "id": "eb66b1b9",
   "metadata": {},
   "outputs": [
    {
     "name": "stdout",
     "output_type": "stream",
     "text": [
      "['C#', 'SQL']\n",
      "---------------------------\n",
      "['Angular', 'ASP.NET']\n"
     ]
    }
   ],
   "source": [
    "i=df.sample(1).index[0]\n",
    "\n",
    "print(df['LanguageHaveWorkedWith'].iloc[i])\n",
    "print(\"---------------------------\")\n",
    "print(df['WebframeHaveWorkedWith'].iloc[i])"
   ]
  },
  {
   "cell_type": "code",
   "execution_count": 50,
   "id": "b5dea042",
   "metadata": {},
   "outputs": [],
   "source": [
    "df.to_pickle(\"../data/processed/1_processed_df.pkl\")"
   ]
  },
  {
   "cell_type": "code",
   "execution_count": null,
   "id": "77b10b28",
   "metadata": {},
   "outputs": [],
   "source": []
  }
 ],
 "metadata": {
  "kernelspec": {
   "display_name": "Python 3 (ipykernel)",
   "language": "python",
   "name": "python3"
  },
  "language_info": {
   "codemirror_mode": {
    "name": "ipython",
    "version": 3
   },
   "file_extension": ".py",
   "mimetype": "text/x-python",
   "name": "python",
   "nbconvert_exporter": "python",
   "pygments_lexer": "ipython3",
   "version": "3.9.12"
  }
 },
 "nbformat": 4,
 "nbformat_minor": 5
}
